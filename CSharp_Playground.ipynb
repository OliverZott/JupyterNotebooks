{
 "cells": [
  {
   "cell_type": "code",
   "execution_count": 3,
   "id": "f9377346-c39d-4e9a-8462-c3b3647bd046",
   "metadata": {},
   "outputs": [
    {
     "name": "stdout",
     "output_type": "stream",
     "text": [
      "test\n",
      "20.09.12021 10:42:30\n",
      "20.09.12021 10:57:30\n"
     ]
    }
   ],
   "source": [
    "System.Console.WriteLine(\"test\");\n",
    "\n",
    "\n",
    "DateTime currentTime = DateTime.Now;\n",
    "var later = currentTime.AddMinutes(15);\n",
    "System.Console.WriteLine(currentTime);\n",
    "System.Console.WriteLine(later);"
   ]
  },
  {
   "cell_type": "code",
   "execution_count": 10,
   "id": "2b90b6e5-511a-432d-a75f-3c26ca9d266a",
   "metadata": {},
   "outputs": [
    {
     "name": "stdout",
     "output_type": "stream",
     "text": [
      "New York City / 8175133 / 468,48\n"
     ]
    }
   ],
   "source": [
    "/* \n",
    "Deconstructor\n",
    "\n",
    "https://docs.microsoft.com/en-us/dotnet/csharp/fundamentals/functional/deconstruct\n",
    "*/\n",
    "\n",
    "\n",
    "var result = QueryCityData(\"New York City\");\n",
    "\n",
    "var city = result.Item1;\n",
    "var pop = result.Item2;\n",
    "var size = result.Item3;\n",
    "System.Console.WriteLine($\"{city} / {pop} / {size}\");\n",
    "\n",
    "\n",
    "private static (string, int, double) QueryCityData(string name)\n",
    "{\n",
    "if (name == \"New York City\")\n",
    "    return (name, 8175133, 468.48);\n",
    "\n",
    "return (\"\", 0, 0);\n",
    "}\n"
   ]
  },
  {
   "cell_type": "code",
   "execution_count": null,
   "id": "5601913a-1413-47a9-bccb-2945d1f04ec9",
   "metadata": {},
   "outputs": [],
   "source": []
  }
 ],
 "metadata": {
  "kernelspec": {
   "display_name": ".NET (C#)",
   "language": "C#",
   "name": ".net-csharp"
  },
  "language_info": {
   "file_extension": ".cs",
   "mimetype": "text/x-csharp",
   "name": "C#",
   "pygments_lexer": "csharp",
   "version": "9.0"
  }
 },
 "nbformat": 4,
 "nbformat_minor": 5
}
